{
 "cells": [
  {
   "cell_type": "code",
   "execution_count": 1,
   "id": "7cebb451",
   "metadata": {},
   "outputs": [],
   "source": [
    "import numpy as np\n",
    "import pandas as pd\n",
    "import matplotlib.pyplot as plt"
   ]
  },
  {
   "cell_type": "code",
   "execution_count": 2,
   "id": "7ff6c9fb",
   "metadata": {},
   "outputs": [
    {
     "data": {
      "text/plain": [
       "(19820, 18)"
      ]
     },
     "execution_count": 2,
     "metadata": {},
     "output_type": "execute_result"
    }
   ],
   "source": [
    "df = pd.read_csv('cars24-car-price-clean.csv')\n",
    "df.shape"
   ]
  },
  {
   "cell_type": "code",
   "execution_count": 3,
   "id": "aac2f921",
   "metadata": {},
   "outputs": [
    {
     "data": {
      "text/html": [
       "<div>\n",
       "<style scoped>\n",
       "    .dataframe tbody tr th:only-of-type {\n",
       "        vertical-align: middle;\n",
       "    }\n",
       "\n",
       "    .dataframe tbody tr th {\n",
       "        vertical-align: top;\n",
       "    }\n",
       "\n",
       "    .dataframe thead th {\n",
       "        text-align: right;\n",
       "    }\n",
       "</style>\n",
       "<table border=\"1\" class=\"dataframe\">\n",
       "  <thead>\n",
       "    <tr style=\"text-align: right;\">\n",
       "      <th></th>\n",
       "      <th>selling_price</th>\n",
       "      <th>year</th>\n",
       "      <th>km_driven</th>\n",
       "      <th>mileage</th>\n",
       "      <th>engine</th>\n",
       "      <th>max_power</th>\n",
       "      <th>age</th>\n",
       "      <th>make</th>\n",
       "      <th>model</th>\n",
       "      <th>Individual</th>\n",
       "      <th>Trustmark Dealer</th>\n",
       "      <th>Diesel</th>\n",
       "      <th>Electric</th>\n",
       "      <th>LPG</th>\n",
       "      <th>Petrol</th>\n",
       "      <th>Manual</th>\n",
       "      <th>5</th>\n",
       "      <th>&gt;5</th>\n",
       "    </tr>\n",
       "  </thead>\n",
       "  <tbody>\n",
       "    <tr>\n",
       "      <th>0</th>\n",
       "      <td>-1.111046</td>\n",
       "      <td>-0.801317</td>\n",
       "      <td>1.195828</td>\n",
       "      <td>0.045745</td>\n",
       "      <td>-1.310754</td>\n",
       "      <td>-1.157780</td>\n",
       "      <td>0.801317</td>\n",
       "      <td>-0.433854</td>\n",
       "      <td>-1.125683</td>\n",
       "      <td>1.248892</td>\n",
       "      <td>-0.098382</td>\n",
       "      <td>-0.985275</td>\n",
       "      <td>-0.020095</td>\n",
       "      <td>-0.056917</td>\n",
       "      <td>1.024622</td>\n",
       "      <td>0.495818</td>\n",
       "      <td>0.444503</td>\n",
       "      <td>-0.424728</td>\n",
       "    </tr>\n",
       "    <tr>\n",
       "      <th>1</th>\n",
       "      <td>-0.223944</td>\n",
       "      <td>0.450030</td>\n",
       "      <td>-0.737872</td>\n",
       "      <td>-0.140402</td>\n",
       "      <td>-0.537456</td>\n",
       "      <td>-0.360203</td>\n",
       "      <td>-0.450030</td>\n",
       "      <td>-0.327501</td>\n",
       "      <td>-0.333227</td>\n",
       "      <td>1.248892</td>\n",
       "      <td>-0.098382</td>\n",
       "      <td>-0.985275</td>\n",
       "      <td>-0.020095</td>\n",
       "      <td>-0.056917</td>\n",
       "      <td>1.024622</td>\n",
       "      <td>0.495818</td>\n",
       "      <td>0.444503</td>\n",
       "      <td>-0.424728</td>\n",
       "    </tr>\n",
       "    <tr>\n",
       "      <th>2</th>\n",
       "      <td>-0.915058</td>\n",
       "      <td>-1.426990</td>\n",
       "      <td>0.035608</td>\n",
       "      <td>-0.582501</td>\n",
       "      <td>-0.537456</td>\n",
       "      <td>-0.404885</td>\n",
       "      <td>1.426990</td>\n",
       "      <td>-0.327501</td>\n",
       "      <td>-0.789807</td>\n",
       "      <td>1.248892</td>\n",
       "      <td>-0.098382</td>\n",
       "      <td>-0.985275</td>\n",
       "      <td>-0.020095</td>\n",
       "      <td>-0.056917</td>\n",
       "      <td>1.024622</td>\n",
       "      <td>0.495818</td>\n",
       "      <td>0.444503</td>\n",
       "      <td>-0.424728</td>\n",
       "    </tr>\n",
       "    <tr>\n",
       "      <th>3</th>\n",
       "      <td>-0.892365</td>\n",
       "      <td>-0.801317</td>\n",
       "      <td>-0.409143</td>\n",
       "      <td>0.329620</td>\n",
       "      <td>-0.921213</td>\n",
       "      <td>-0.693085</td>\n",
       "      <td>0.801317</td>\n",
       "      <td>-0.433854</td>\n",
       "      <td>-0.905265</td>\n",
       "      <td>1.248892</td>\n",
       "      <td>-0.098382</td>\n",
       "      <td>-0.985275</td>\n",
       "      <td>-0.020095</td>\n",
       "      <td>-0.056917</td>\n",
       "      <td>1.024622</td>\n",
       "      <td>0.495818</td>\n",
       "      <td>0.444503</td>\n",
       "      <td>-0.424728</td>\n",
       "    </tr>\n",
       "    <tr>\n",
       "      <th>4</th>\n",
       "      <td>-0.182683</td>\n",
       "      <td>0.137194</td>\n",
       "      <td>-0.544502</td>\n",
       "      <td>0.760085</td>\n",
       "      <td>0.042999</td>\n",
       "      <td>0.010435</td>\n",
       "      <td>-0.137194</td>\n",
       "      <td>-0.246579</td>\n",
       "      <td>-0.013096</td>\n",
       "      <td>-0.800710</td>\n",
       "      <td>-0.098382</td>\n",
       "      <td>1.014945</td>\n",
       "      <td>-0.020095</td>\n",
       "      <td>-0.056917</td>\n",
       "      <td>-0.975970</td>\n",
       "      <td>0.495818</td>\n",
       "      <td>0.444503</td>\n",
       "      <td>-0.424728</td>\n",
       "    </tr>\n",
       "  </tbody>\n",
       "</table>\n",
       "</div>"
      ],
      "text/plain": [
       "   selling_price      year  km_driven   mileage    engine  max_power  \\\n",
       "0      -1.111046 -0.801317   1.195828  0.045745 -1.310754  -1.157780   \n",
       "1      -0.223944  0.450030  -0.737872 -0.140402 -0.537456  -0.360203   \n",
       "2      -0.915058 -1.426990   0.035608 -0.582501 -0.537456  -0.404885   \n",
       "3      -0.892365 -0.801317  -0.409143  0.329620 -0.921213  -0.693085   \n",
       "4      -0.182683  0.137194  -0.544502  0.760085  0.042999   0.010435   \n",
       "\n",
       "        age      make     model  Individual  Trustmark Dealer    Diesel  \\\n",
       "0  0.801317 -0.433854 -1.125683    1.248892         -0.098382 -0.985275   \n",
       "1 -0.450030 -0.327501 -0.333227    1.248892         -0.098382 -0.985275   \n",
       "2  1.426990 -0.327501 -0.789807    1.248892         -0.098382 -0.985275   \n",
       "3  0.801317 -0.433854 -0.905265    1.248892         -0.098382 -0.985275   \n",
       "4 -0.137194 -0.246579 -0.013096   -0.800710         -0.098382  1.014945   \n",
       "\n",
       "   Electric       LPG    Petrol    Manual         5        >5  \n",
       "0 -0.020095 -0.056917  1.024622  0.495818  0.444503 -0.424728  \n",
       "1 -0.020095 -0.056917  1.024622  0.495818  0.444503 -0.424728  \n",
       "2 -0.020095 -0.056917  1.024622  0.495818  0.444503 -0.424728  \n",
       "3 -0.020095 -0.056917  1.024622  0.495818  0.444503 -0.424728  \n",
       "4 -0.020095 -0.056917 -0.975970  0.495818  0.444503 -0.424728  "
      ]
     },
     "execution_count": 3,
     "metadata": {},
     "output_type": "execute_result"
    }
   ],
   "source": [
    "df.head()"
   ]
  },
  {
   "cell_type": "code",
   "execution_count": 4,
   "id": "aa9ceef3",
   "metadata": {},
   "outputs": [],
   "source": [
    "X = df['max_power'].values\n",
    "\n",
    "Y = df['selling_price'].values"
   ]
  },
  {
   "cell_type": "code",
   "execution_count": 5,
   "id": "c7e76011",
   "metadata": {},
   "outputs": [
    {
     "data": {
      "text/plain": [
       "(19820,)"
      ]
     },
     "execution_count": 5,
     "metadata": {},
     "output_type": "execute_result"
    }
   ],
   "source": [
    "X.shape"
   ]
  },
  {
   "cell_type": "code",
   "execution_count": 6,
   "id": "d23e73bf",
   "metadata": {},
   "outputs": [
    {
     "data": {
      "text/plain": [
       "(19820,)"
      ]
     },
     "execution_count": 6,
     "metadata": {},
     "output_type": "execute_result"
    }
   ],
   "source": [
    "Y.shape"
   ]
  },
  {
   "cell_type": "code",
   "execution_count": 8,
   "id": "ef3955f3",
   "metadata": {},
   "outputs": [],
   "source": [
    "def hypothesis(x, weights):\n",
    "    '''\n",
    "    x : real value input (max-power)\n",
    "    weights : list of [wo, w1]\n",
    "    '''\n",
    "    y_hat = weights[0] + weights[1]*x\n",
    "    \n",
    "    return y_hat"
   ]
  },
  {
   "cell_type": "code",
   "execution_count": 9,
   "id": "e0c0f60f",
   "metadata": {},
   "outputs": [
    {
     "data": {
      "text/plain": [
       "6.84"
      ]
     },
     "execution_count": 9,
     "metadata": {},
     "output_type": "execute_result"
    }
   ],
   "source": [
    "# 2.3\n",
    "hypothesis(2.3, [5, 0.8])"
   ]
  },
  {
   "cell_type": "code",
   "execution_count": 10,
   "id": "4649b880",
   "metadata": {},
   "outputs": [],
   "source": [
    "def error(X, Y, weights):\n",
    "    '''\n",
    "    X: input n data points\n",
    "    Y: target data \n",
    "    weights :  list of [wo, w1]\n",
    "    '''\n",
    "    \n",
    "    n = len(X)\n",
    "    err = 0\n",
    "    \n",
    "    for i in range(n):\n",
    "        y_hat_i = hypothesis(X[i], weights)\n",
    "        err += (Y[i] - y_hat_i)**2\n",
    "        \n",
    "    return err/n"
   ]
  },
  {
   "cell_type": "code",
   "execution_count": 16,
   "id": "a2fe0e1c",
   "metadata": {},
   "outputs": [],
   "source": [
    "def gradient(X, Y, weights):\n",
    "\n",
    "    n = len(X)\n",
    "    grad = np.zeros((2, ))\n",
    "    \n",
    "    for i in range(n):\n",
    "        y_hat_i = hypothesis(X[i], weights)\n",
    "        grad[0] += (y_hat_i - Y[i])\n",
    "        grad[1] += (y_hat_i - Y[i])*X[i]\n",
    "    \n",
    "    return 2*grad/n"
   ]
  },
  {
   "cell_type": "code",
   "execution_count": 43,
   "id": "f6af1197",
   "metadata": {},
   "outputs": [],
   "source": [
    "def gradient_descent(X, Y, max_itr = 100, learning_rate = 0.1):\n",
    "    # step 1 : init() randomly\n",
    "    \n",
    "    weights = np.random.rand(2)\n",
    "    error_list = []\n",
    "    \n",
    "    # step 2: repeate 100 times\n",
    "    for i in range(max_itr):\n",
    "        e = error(X, Y, weights)\n",
    "        error_list.append(e)\n",
    "        \n",
    "        grad = gradient(X, Y, weights)\n",
    "        weights[0] = weights[0] - learning_rate*grad[0]\n",
    "        weights[1] = weights[1] - learning_rate*grad[1]\n",
    "    \n",
    "    return weights.round(3), error_list"
   ]
  },
  {
   "cell_type": "code",
   "execution_count": 44,
   "id": "f6f5f4dc",
   "metadata": {},
   "outputs": [],
   "source": [
    "opt_weights, error_list = gradient_descent(X, Y)"
   ]
  },
  {
   "cell_type": "code",
   "execution_count": 45,
   "id": "b39b8b43",
   "metadata": {},
   "outputs": [
    {
     "data": {
      "text/plain": [
       "array([0.  , 0.77])"
      ]
     },
     "execution_count": 45,
     "metadata": {},
     "output_type": "execute_result"
    }
   ],
   "source": [
    "opt_weights"
   ]
  },
  {
   "cell_type": "code",
   "execution_count": 46,
   "id": "c07382db",
   "metadata": {},
   "outputs": [
    {
     "data": {
      "image/png": "[encoded data removed]",
      "text/plain": [
       "<Figure size 432x288 with 1 Axes>"
      ]
     },
     "metadata": {
      "needs_background": "light"
     },
     "output_type": "display_data"
    }
   ],
   "source": [
    "plt.plot(error_list);"
   ]
  },
  {
   "cell_type": "code",
   "execution_count": null,
   "id": "d99a04e6",
   "metadata": {},
   "outputs": [],
   "source": []
  },
  {
   "cell_type": "code",
   "execution_count": 55,
   "id": "69bd91e1",
   "metadata": {},
   "outputs": [
    {
     "data": {
      "text/plain": [
       "3.465"
      ]
     },
     "execution_count": 55,
     "metadata": {},
     "output_type": "execute_result"
    }
   ],
   "source": [
    "# predict for 4.5\n",
    "hypothesis(4.5, opt_weights)"
   ]
  },
  {
   "cell_type": "code",
   "execution_count": null,
   "id": "fd768e93",
   "metadata": {},
   "outputs": [],
   "source": []
  }
 ],
 "metadata": {
  "kernelspec": {
   "display_name": "Python 3",
   "language": "python",
   "name": "python3"
  },
  "language_info": {
   "codemirror_mode": {
    "name": "ipython",
    "version": 3
   },
   "file_extension": ".py",
   "mimetype": "text/x-python",
   "name": "python",
   "nbconvert_exporter": "python",
   "pygments_lexer": "ipython3",
   "version": "3.8.8"
  }
 },
 "nbformat": 4,
 "nbformat_minor": 5
}
